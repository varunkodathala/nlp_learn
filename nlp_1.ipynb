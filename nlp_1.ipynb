{
  "nbformat": 4,
  "nbformat_minor": 0,
  "metadata": {
    "colab": {
      "name": "nlp_1.ipynb",
      "provenance": []
    },
    "kernelspec": {
      "name": "python3",
      "display_name": "Python 3"
    },
    "accelerator": "GPU"
  },
  "cells": [
    {
      "cell_type": "code",
      "metadata": {
        "id": "rnf8m9jaLzcF",
        "colab_type": "code",
        "colab": {}
      },
      "source": [
        "import nltk"
      ],
      "execution_count": 0,
      "outputs": []
    },
    {
      "cell_type": "code",
      "metadata": {
        "id": "T1jTrJE3L3mp",
        "colab_type": "code",
        "colab": {}
      },
      "source": [
        "text = \"Varun's laptop is macbook air! isn't it?\""
      ],
      "execution_count": 0,
      "outputs": []
    },
    {
      "cell_type": "code",
      "metadata": {
        "id": "o3l1_zX3MQxc",
        "colab_type": "code",
        "colab": {}
      },
      "source": [
        "tokenizer1 = nltk.tokenize.WhitespaceTokenizer()"
      ],
      "execution_count": 0,
      "outputs": []
    },
    {
      "cell_type": "code",
      "metadata": {
        "id": "cWcTySorMUcI",
        "colab_type": "code",
        "colab": {}
      },
      "source": [
        "tokenizer2 = nltk.tokenize.WordPunctTokenizer()"
      ],
      "execution_count": 0,
      "outputs": []
    },
    {
      "cell_type": "code",
      "metadata": {
        "id": "YfOImjzwMZUl",
        "colab_type": "code",
        "colab": {}
      },
      "source": [
        "tokenizer3 = nltk.tokenize.TreebankWordTokenizer()"
      ],
      "execution_count": 0,
      "outputs": []
    },
    {
      "cell_type": "code",
      "metadata": {
        "id": "0kiLXBGcMdS3",
        "colab_type": "code",
        "colab": {}
      },
      "source": [
        "res1 = tokenizer1.tokenize(text)\n",
        "res2 = tokenizer2.tokenize(text)\n",
        "res3 = tokenizer3.tokenize(text)"
      ],
      "execution_count": 0,
      "outputs": []
    },
    {
      "cell_type": "code",
      "metadata": {
        "id": "z5Y27j7FMpNx",
        "colab_type": "code",
        "colab": {
          "base_uri": "https://localhost:8080/",
          "height": 68
        },
        "outputId": "75333ae8-e93a-4b51-bf97-81b09198d078"
      },
      "source": [
        "print(res1)\n",
        "print(res2)\n",
        "print(res3)"
      ],
      "execution_count": 10,
      "outputs": [
        {
          "output_type": "stream",
          "text": [
            "[\"Varun's\", 'laptop', 'is', 'macbook', 'air!', \"isn't\", 'it?']\n",
            "['Varun', \"'\", 's', 'laptop', 'is', 'macbook', 'air', '!', 'isn', \"'\", 't', 'it', '?']\n",
            "['Varun', \"'s\", 'laptop', 'is', 'macbook', 'air', '!', 'is', \"n't\", 'it', '?']\n"
          ],
          "name": "stdout"
        }
      ]
    },
    {
      "cell_type": "code",
      "metadata": {
        "id": "Iv4Q3kiqMsf4",
        "colab_type": "code",
        "colab": {}
      },
      "source": [
        "text2 = \"Jaga says there are many lions chasing few wolves. I thought he is joking\""
      ],
      "execution_count": 0,
      "outputs": []
    },
    {
      "cell_type": "code",
      "metadata": {
        "id": "FKbqJXa-OP_b",
        "colab_type": "code",
        "colab": {}
      },
      "source": [
        "res = tokenizer3.tokenize(text2)"
      ],
      "execution_count": 0,
      "outputs": []
    },
    {
      "cell_type": "code",
      "metadata": {
        "id": "BkGjkIV8OVcY",
        "colab_type": "code",
        "colab": {
          "base_uri": "https://localhost:8080/",
          "height": 34
        },
        "outputId": "bf50e943-1e6d-4128-9ea9-f7bd520737d7"
      },
      "source": [
        "stemmer1 = nltk.stem.PorterStemmer()\n",
        "out1 = \"\"\n",
        "\n",
        "for tokens in res:\n",
        "  out1 = out1 + \" \" + stemmer1.stem(tokens)\n",
        "\n",
        "print(out1)"
      ],
      "execution_count": 13,
      "outputs": [
        {
          "output_type": "stream",
          "text": [
            " jaga say there are mani lion chase few wolves. I thought he is joke\n"
          ],
          "name": "stdout"
        }
      ]
    },
    {
      "cell_type": "code",
      "metadata": {
        "id": "QXSprqHFOz8_",
        "colab_type": "code",
        "colab": {
          "base_uri": "https://localhost:8080/",
          "height": 34
        },
        "outputId": "668f79db-5389-4501-da98-382abb361941"
      },
      "source": [
        "stemmer2 = nltk.stem.WordNetLemmatizer()\n",
        "out2 = \"\"\n",
        "\n",
        "for tokens in res:\n",
        "  out2 = out2 + \" \" + stemmer2.lemmatize(tokens)\n",
        "\n",
        "print(out2)"
      ],
      "execution_count": 17,
      "outputs": [
        {
          "output_type": "stream",
          "text": [
            " Jaga say there are many lion chasing few wolves. I thought he is joking\n"
          ],
          "name": "stdout"
        }
      ]
    },
    {
      "cell_type": "code",
      "metadata": {
        "id": "qIJPs0ToPUTg",
        "colab_type": "code",
        "colab": {}
      },
      "source": [
        ""
      ],
      "execution_count": 0,
      "outputs": []
    }
  ]
}